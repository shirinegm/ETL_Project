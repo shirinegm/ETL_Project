{
 "cells": [
  {
   "cell_type": "code",
   "execution_count": null,
   "id": "29acd255",
   "metadata": {},
   "outputs": [],
   "source": [
    "import pandas as pd\n",
    "import datetime\n",
    "from sqlalchemy import create_engine"
   ]
  },
  {
   "cell_type": "code",
   "execution_count": null,
   "id": "9bb67d46",
   "metadata": {},
   "outputs": [],
   "source": [
    "fifa_ranking = \"fifa_ranking.csv\"\n",
    "fifa_ranking_df = pd.read_csv(fifa_ranking)\n",
    "fifa_ranking_df.head()"
   ]
  },
  {
   "cell_type": "code",
   "execution_count": null,
   "id": "0e375622",
   "metadata": {},
   "outputs": [],
   "source": [
    "world_cup_comparisons = \"world_cup_comparisons.csv\"\n",
    "world_cup_df = pd.read_csv(world_cup_comparisons)\n"
   ]
  },
  {
   "cell_type": "code",
   "execution_count": null,
   "id": "a449239d",
   "metadata": {},
   "outputs": [],
   "source": [
    "world_cup_df.season.unique()"
   ]
  },
  {
   "cell_type": "code",
   "execution_count": null,
   "id": "64ffeda3",
   "metadata": {},
   "outputs": [],
   "source": [
    "fifa_ranking_df.rank_date.unique()"
   ]
  },
  {
   "cell_type": "code",
   "execution_count": null,
   "id": "2bd25fc9",
   "metadata": {},
   "outputs": [],
   "source": [
    "fifa_ranking_df['year'] = pd.DatetimeIndex(fifa_ranking_df['rank_date']).year"
   ]
  },
  {
   "cell_type": "code",
   "execution_count": null,
   "id": "6e168231",
   "metadata": {},
   "outputs": [],
   "source": [
    "fifa_ranking_df.year.unique()"
   ]
  },
  {
   "cell_type": "code",
   "execution_count": null,
   "id": "a06bdd52",
   "metadata": {},
   "outputs": [],
   "source": [
    "fifa_match = fifa_ranking_df.loc[fifa_ranking_df['year'].isin([2018, 2014, 2010, 2006, 2002, 1998, 1994])]\n",
    "fifa_match.year.unique()"
   ]
  },
  {
   "cell_type": "code",
   "execution_count": null,
   "id": "4bc6ecca",
   "metadata": {},
   "outputs": [],
   "source": [
    "world_cup_matched = world_cup_df.loc[world_cup_df['season'] >= 1994]\n",
    "world_cup_matched.season.unique()"
   ]
  },
  {
   "cell_type": "code",
   "execution_count": null,
   "id": "ffd65c3f",
   "metadata": {},
   "outputs": [],
   "source": [
    "#list_worldcup_dates = world_cup_df.season.unique()\n",
    "#list_worldcup_dates\n",
    "\n",
    "world_cup_matched"
   ]
  },
  {
   "cell_type": "code",
   "execution_count": null,
   "id": "2232f808",
   "metadata": {},
   "outputs": [],
   "source": [
    "fifa_match\n",
    "        \n",
    "        "
   ]
  },
  {
   "cell_type": "code",
   "execution_count": null,
   "id": "d852923e",
   "metadata": {},
   "outputs": [],
   "source": []
  }
 ],
 "metadata": {
  "kernelspec": {
   "display_name": "Python 3",
   "language": "python",
   "name": "python3"
  },
  "language_info": {
   "codemirror_mode": {
    "name": "ipython",
    "version": 3
   },
   "file_extension": ".py",
   "mimetype": "text/x-python",
   "name": "python",
   "nbconvert_exporter": "python",
   "pygments_lexer": "ipython3",
   "version": "3.8.8"
  }
 },
 "nbformat": 4,
 "nbformat_minor": 5
}
