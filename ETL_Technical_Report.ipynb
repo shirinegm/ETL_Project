{
 "cells": [
  {
   "cell_type": "markdown",
   "id": "4df59dae",
   "metadata": {},
   "source": [
    "# Overview\n",
    "\n",
    "We will use two separate data sources, the FIFA Soccer ranking and the World Cup 2018 Player Comparisons and perform ETL to allow us to join on the country and try to establish if the ranking of a country/team can be predicted by the style of its players."
   ]
  },
  {
   "cell_type": "code",
   "execution_count": null,
   "id": "29acd255",
   "metadata": {},
   "outputs": [],
   "source": [
    "# Dependencies\n",
    "import pandas as pd\n",
    "import datetime\n",
    "from sqlalchemy import create_engine, inspect"
   ]
  },
  {
   "cell_type": "markdown",
   "id": "6e665031",
   "metadata": {},
   "source": [
    "# Extract\n",
    "\n",
    "### The FIFA Ranking Data Set\n",
    "\n",
    "The world football governing body FIFA has been ranking international teams since 1992. They are ranked based on their game results with the most successful teams being ranked highest. This dataset contains all available FIFA men’s international soccer rankings from August 1993 to April 2018.\n",
    "(Source https://en.wikipedia.org/wiki/FIFA_World_Rankings)\n",
    "\n",
    "### The Players Stats\n",
    "\n",
    "Each metric is measured on a per-match basis, and for each metric we calculate a z-score — the number of standard deviations above or below average for that World Cup. The similarity between players’ performances is based solely on the average between each of their 16 z-scores — in other words, comparisons match players who are good at similar parts of the game, but the model ignores details like a player’s age or position. Players must have played at least 30 minutes in a given World Cup to be included. Play styles are generated through k-means clustering.\n",
    "\n",
    "Only successful crosses, tackles, passes, take-ons and headers are counted, and tackles, interceptions and blocks are adjusted for the time of possession that the player's team had during each match. Progressive passes and dribbles advance the ball at least 10 yards toward the opponent's goal or into their box. Expected goals is the number of goals that our model thinks an average player would score based on the quality and quantity of shots taken, and non-shot expected goals is an estimate of the number of goals an average player’s non-shooting actions — passes, take-ons, interceptions, tackles and headers — would generate for his team.\n",
    "\n",
    "All metrics here were calculated by FiveThirtyEight using data from the sports analytics company Opta and may differ from similar metrics at other sites. Numbers will update after each match through the end of the 2018 World Cup. (Source https://projects.fivethirtyeight.com/world-cup-comparisons/nicolas-otamendi-2018/)\n",
    "![Player Stats](Resources/players_visual.png)"
   ]
  },
  {
   "cell_type": "markdown",
   "id": "71ab0e3b",
   "metadata": {},
   "source": [
    "### Sources\n",
    "We will import both sheets from the Resources folder"
   ]
  },
  {
   "cell_type": "code",
   "execution_count": null,
   "id": "9a1c9347",
   "metadata": {},
   "outputs": [],
   "source": [
    "# Import FIFA Ranking csv downloaded from .....\n",
    "fifa_ranking = \"Resources/fifa_ranking.csv\"\n",
    "fifa_ranking_df = pd.read_csv(fifa_ranking)\n",
    "fifa_ranking_df.head()"
   ]
  },
  {
   "cell_type": "code",
   "execution_count": null,
   "id": "0e375622",
   "metadata": {},
   "outputs": [],
   "source": [
    "# Import Player Statistics from ....\n",
    "world_cup_comparisons = \"Resources/world_cup_comparisons.csv\"\n",
    "world_cup_df = pd.read_csv(world_cup_comparisons)\n",
    "world_cup_df.head()"
   ]
  },
  {
   "cell_type": "markdown",
   "id": "e513e122",
   "metadata": {},
   "source": [
    "# Transform\n",
    "\n",
    "We Check for Unique Year values to see if both sheets match then Do the same with Fifa ranking. We then Create a column with just the year value for FIFA Ranking. We Remove the years that don't match and Review the data. We need to remove columns from the Players stats to only keep Attack and Defence Stats. We rename the columns to make sense and help with joining the other table and reset Index and select only columns we need."
   ]
  },
  {
   "cell_type": "code",
   "execution_count": null,
   "id": "a449239d",
   "metadata": {},
   "outputs": [],
   "source": [
    "# Check for Unique Year values to see if both sheets match\n",
    "world_cup_df.season.unique()"
   ]
  },
  {
   "cell_type": "code",
   "execution_count": null,
   "id": "64ffeda3",
   "metadata": {},
   "outputs": [],
   "source": [
    "# Do the same with Fifa ranking...oops they don't match\n",
    "fifa_ranking_df.rank_date.unique()"
   ]
  },
  {
   "cell_type": "code",
   "execution_count": null,
   "id": "2bd25fc9",
   "metadata": {},
   "outputs": [],
   "source": [
    "# Create a column with just the year value for FIFA Ranking\n",
    "fifa_ranking_df['year'] = pd.DatetimeIndex(fifa_ranking_df['rank_date']).year"
   ]
  },
  {
   "cell_type": "code",
   "execution_count": null,
   "id": "6e168231",
   "metadata": {},
   "outputs": [],
   "source": [
    "# Check again - looks good\n",
    "fifa_ranking_df.year.unique()"
   ]
  },
  {
   "cell_type": "code",
   "execution_count": null,
   "id": "a06bdd52",
   "metadata": {},
   "outputs": [],
   "source": [
    "# Remove the years that don't match in the FIFA data set\n",
    "fifa_match = fifa_ranking_df.loc[fifa_ranking_df['year'].isin([2018, 2014, 2010, 2006, 2002, 1998, 1994])]\n",
    "fifa_match.year.unique()"
   ]
  },
  {
   "cell_type": "code",
   "execution_count": null,
   "id": "4bc6ecca",
   "metadata": {},
   "outputs": [],
   "source": [
    "# Do the same for the Player Statistics Data set\n",
    "world_cup_matched = world_cup_df.loc[world_cup_df['season'] >= 1994]\n",
    "world_cup_matched.season.unique()"
   ]
  },
  {
   "cell_type": "code",
   "execution_count": null,
   "id": "ffd65c3f",
   "metadata": {},
   "outputs": [],
   "source": [
    "# Review the data for Players Stats\n",
    "\n",
    "world_cup_matched.head()"
   ]
  },
  {
   "cell_type": "code",
   "execution_count": null,
   "id": "2232f808",
   "metadata": {},
   "outputs": [],
   "source": [
    "# Review the data for the FIFA Rankings\n",
    "fifa_match.head()"
   ]
  },
  {
   "cell_type": "code",
   "execution_count": null,
   "id": "d852923e",
   "metadata": {},
   "outputs": [],
   "source": [
    "# We need to remove columns from the Players stats to only keep Attack and Defence Stats:\n",
    "\n",
    "player_stats = world_cup_matched[['player','season', 'team', 'goals_z', 'xg_z', 'crosses_z', 'boxtouches_z', \n",
    "                                      'tackles_z', 'interceptions_z','clearances_z','blocks_z']]\n",
    "player_stats.head()"
   ]
  },
  {
   "cell_type": "code",
   "execution_count": null,
   "id": "1cb1868c",
   "metadata": {},
   "outputs": [],
   "source": [
    "# Rename the columns to make sense and help with joining the other table\n",
    "player_stats = player_stats.rename(columns={'season': 'year', \n",
    "                                            'goals_z': 'goals',\n",
    "                                            'xg_z':'expected_goals',\n",
    "                                            'crosses_z':'crosses',\n",
    "                                            'boxtouches_z':'box_touches',\n",
    "                                            'tackles_z':'tackles',\n",
    "                                            'interceptions_z':'interceptions',\n",
    "                                            'clearances_z':'clearances',\n",
    "                                            'blocks_z':'blocks'\n",
    "                                           })\n",
    "player_stats.head()"
   ]
  },
  {
   "cell_type": "code",
   "execution_count": null,
   "id": "f5d710b9",
   "metadata": {},
   "outputs": [],
   "source": [
    "# Reset Index for Players Stats\n",
    "player_stats = player_stats.reset_index(drop=True)\n",
    "player_stats.head()"
   ]
  },
  {
   "cell_type": "code",
   "execution_count": null,
   "id": "1ffbd2ff",
   "metadata": {},
   "outputs": [],
   "source": [
    "# Select helpful columns from FIFA rnking\n",
    "fifa_ranking = fifa_match[['rank', 'country_full','total_points', \n",
    "                                  'rank_change', 'cur_year_avg', 'last_year_avg', 'two_year_ago_avg', 'three_year_ago_avg', \n",
    "                                  'confederation', 'year']]\n",
    "\n",
    "fifa_ranking.head()"
   ]
  },
  {
   "cell_type": "code",
   "execution_count": null,
   "id": "e3509ebc",
   "metadata": {},
   "outputs": [],
   "source": [
    "# Rename columns for FIFA Ranking\n",
    "\n",
    "fifa_ranking = fifa_ranking.rename(columns={'country_full': 'team'})\n",
    "fifa_ranking.head()"
   ]
  },
  {
   "cell_type": "code",
   "execution_count": null,
   "id": "f51b558a",
   "metadata": {},
   "outputs": [],
   "source": [
    "# Reset Index for FIFA Ranking\n",
    "fifa_ranking = fifa_ranking.reset_index(drop=True)\n",
    "fifa_ranking.head()"
   ]
  },
  {
   "cell_type": "markdown",
   "id": "ddc8c4ab",
   "metadata": {},
   "source": [
    "# Load\n",
    "We need to analyze data types then Create a unique id to hold the primary key for the target tables."
   ]
  },
  {
   "cell_type": "code",
   "execution_count": null,
   "id": "efd051b7",
   "metadata": {},
   "outputs": [],
   "source": [
    "# First analyze data types\n",
    "player_stats.dtypes"
   ]
  },
  {
   "cell_type": "code",
   "execution_count": null,
   "id": "fd495ae9",
   "metadata": {},
   "outputs": [],
   "source": [
    "fifa_ranking.dtypes"
   ]
  },
  {
   "cell_type": "code",
   "execution_count": null,
   "id": "02da1727",
   "metadata": {},
   "outputs": [],
   "source": [
    "# Create a unique id to hold the primary key for the target table\n",
    "fifa_ranking['ranking_id'] = fifa_ranking.index\n",
    "fifa_ranking.head()"
   ]
  },
  {
   "cell_type": "code",
   "execution_count": null,
   "id": "308dde08",
   "metadata": {},
   "outputs": [],
   "source": [
    "# Move it to the front because it looks better\n",
    "fifa_ranking = fifa_ranking[['ranking_id','rank','team','total_points','rank_change',\n",
    "                             'cur_year_avg','last_year_avg','two_year_ago_avg',\n",
    "                             'three_year_ago_avg','confederation','year'\n",
    "                            ]]\n",
    "fifa_ranking.head()"
   ]
  },
  {
   "cell_type": "code",
   "execution_count": null,
   "id": "8ed4dc81",
   "metadata": {},
   "outputs": [],
   "source": [
    "# Prepare a Primary Key for the Players Stats\n",
    "player_stats['player_id'] = player_stats.index\n",
    "player_stats = player_stats[['player_id', 'player','year','team','goals',\n",
    "                             'expected_goals','crosses','box_touches','tackles',\n",
    "                             'interceptions','clearances','blocks'\n",
    "                            ]\n",
    "                           ]\n",
    "player_stats.head()"
   ]
  },
  {
   "cell_type": "markdown",
   "id": "04449e60",
   "metadata": {},
   "source": [
    "## HALT!! - Any code below this line requires the database and tables to be created and defined. Read detailed instructions in Readme\n",
    "You should get at database looking like this: \n",
    "\n",
    "![ERD](Resources/erd.png)"
   ]
  },
  {
   "cell_type": "markdown",
   "id": "f47f12f0",
   "metadata": {},
   "source": [
    "#### Make sure to replace postgres, bootcamp and 5432 in the line below with your own username, password and port.\n",
    "```\n",
    "**postgres**:**bootcamp**@localhost:**5432**/soccer_db\n",
    "```"
   ]
  },
  {
   "cell_type": "code",
   "execution_count": null,
   "id": "29e31c7c",
   "metadata": {},
   "outputs": [],
   "source": [
    "# Input your pg admin username and password Connect to the database\n",
    "connection_string = \"postgres:bootcamp@localhost:5432/soccer_db\"\n",
    "engine = create_engine(f'postgresql://{connection_string}')"
   ]
  },
  {
   "cell_type": "code",
   "execution_count": null,
   "id": "8797ddaf",
   "metadata": {},
   "outputs": [],
   "source": [
    "# Confirm tables\n",
    "inspector = inspect(engine)\n",
    "inspector.get_table_names()"
   ]
  },
  {
   "cell_type": "code",
   "execution_count": null,
   "id": "04f6cf78",
   "metadata": {},
   "outputs": [],
   "source": [
    "# Load FIFA Ranking into the tables\n",
    "\n",
    "fifa_ranking.to_sql(name='fifa_ranking', con=engine, if_exists='append', index=False)"
   ]
  },
  {
   "cell_type": "code",
   "execution_count": null,
   "id": "23327ae7",
   "metadata": {},
   "outputs": [],
   "source": [
    "pd.read_sql_query('select * from fifa_ranking', con=engine).head()"
   ]
  },
  {
   "cell_type": "code",
   "execution_count": null,
   "id": "eb552236",
   "metadata": {},
   "outputs": [],
   "source": [
    "# Load Players Stats into the table\n",
    "\n",
    "player_stats.to_sql(name='player_stats', con=engine, if_exists='append', index=False)"
   ]
  },
  {
   "cell_type": "code",
   "execution_count": null,
   "id": "42c0a5fe",
   "metadata": {},
   "outputs": [],
   "source": [
    "pd.read_sql_query('select * from player_stats', con=engine).head()"
   ]
  },
  {
   "cell_type": "markdown",
   "id": "513a7339",
   "metadata": {},
   "source": [
    "# Exploration\n",
    "If we wanted to use the prepared data to perform and analysis on how player styles affect team rankings, we can perform certain joins. The `joins.sql` file in the root has a couple of examples."
   ]
  },
  {
   "cell_type": "code",
   "execution_count": null,
   "id": "3169ba16",
   "metadata": {},
   "outputs": [],
   "source": []
  }
 ],
 "metadata": {
  "kernelspec": {
   "display_name": "Python 3",
   "language": "python",
   "name": "python3"
  },
  "language_info": {
   "codemirror_mode": {
    "name": "ipython",
    "version": 3
   },
   "file_extension": ".py",
   "mimetype": "text/x-python",
   "name": "python",
   "nbconvert_exporter": "python",
   "pygments_lexer": "ipython3",
   "version": "3.8.8"
  }
 },
 "nbformat": 4,
 "nbformat_minor": 5
}
